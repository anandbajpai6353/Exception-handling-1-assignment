{
 "cells": [
  {
   "cell_type": "markdown",
   "id": "e6c17d57-1299-447a-98e9-8cafb55d4b4e",
   "metadata": {},
   "source": [
    "Q1. What is an Exception in python? Write the difference between Exceptions and syntax errors."
   ]
  },
  {
   "cell_type": "markdown",
   "id": "52625aeb-83ad-4fee-815e-045f8793d709",
   "metadata": {},
   "source": [
    "In Python, an exception is an event that occurs during the execution of a program and disrupts the normal flow of instructions. When an exceptional situation occurs, the program creates an exception object, which represents the specific error that occurred. This object can then be handled or caught by appropriate code, allowing the program to respond to the error condition and continue its execution gracefully.\n",
    "\n",
    "Exceptions can occur due to various reasons, such as invalid input, division by zero, accessing a non-existent file, or attempting to perform an unsupported operation. Python provides a mechanism to handle exceptions using try-except blocks. The code within the try block is monitored for exceptions, and if any exception occurs, it is caught by the except block where you can handle the exception appropriately.\n",
    "\n",
    "On the other hand, syntax errors are mistakes or violations of the Python language syntax rules. These errors occur when you write code that doesn't follow the correct syntax structure expected by Python. Syntax errors prevent the code from being compiled or executed successfully. They are typically detected by the Python interpreter at the time of parsing the code before the program's execution.\n",
    "\n",
    "The main differences between exceptions and syntax errors are as follows:\n",
    "\n",
    "1. Cause: Exceptions occur during the execution of a program when something unexpected happens, such as invalid input or resource unavailability. Syntax errors occur when you make mistakes in the structure or format of your code, violating the language syntax rules.\n",
    "\n",
    "2. Detection: Exceptions are detected during the runtime of the program when the code is being executed. Syntax errors are detected by the Python interpreter during the parsing stage, before the program is executed.\n",
    "\n",
    "3. Handling: Exceptions can be caught and handled using try-except blocks, allowing you to gracefully handle exceptional situations and continue the program's execution. Syntax errors cannot be caught or handled because they prevent the program from being executed at all until the syntax issues are resolved.\n",
    "\n",
    "In summary, exceptions are errors that occur during the execution of a program, while syntax errors are mistakes in the structure or format of the code that prevent the program from running. Exceptions can be handled, whereas syntax errors need to be fixed before the program can be executed."
   ]
  },
  {
   "cell_type": "raw",
   "id": "4cdd6091-65f4-4ffa-a35a-53d17cf80385",
   "metadata": {},
   "source": []
  },
  {
   "cell_type": "raw",
   "id": "685ca384-856f-4112-86a1-834c6b65ecbe",
   "metadata": {},
   "source": []
  },
  {
   "cell_type": "markdown",
   "id": "17e95e22-2b4c-4cd8-9a19-c24baf660047",
   "metadata": {},
   "source": [
    "Q2. What happens when an exception is not handled? Explain with an example."
   ]
  },
  {
   "cell_type": "markdown",
   "id": "3684635c-cef9-4040-953e-f78b79a3a89b",
   "metadata": {},
   "source": [
    "When an exception is not handled in Python, it leads to what is called an \"unhandled exception.\" When an unhandled exception occurs, the program's normal execution is halted, and an error message is displayed, providing information about the exception that occurred. The error message includes a traceback, which shows the sequence of function calls that led to the exception.\n",
    "\n",
    "Here's an example to illustrate what happens when an exception is not handled:\n",
    "\n",
    "\n",
    "\n"
   ]
  },
  {
   "cell_type": "code",
   "execution_count": 1,
   "id": "d56f86ae-6b24-4f86-a509-a8bf69ae8824",
   "metadata": {},
   "outputs": [
    {
     "ename": "ZeroDivisionError",
     "evalue": "division by zero",
     "output_type": "error",
     "traceback": [
      "\u001b[0;31m---------------------------------------------------------------------------\u001b[0m",
      "\u001b[0;31mZeroDivisionError\u001b[0m                         Traceback (most recent call last)",
      "Cell \u001b[0;32mIn[1], line 8\u001b[0m\n\u001b[1;32m      5\u001b[0m num1 \u001b[38;5;241m=\u001b[39m \u001b[38;5;241m10\u001b[39m\n\u001b[1;32m      6\u001b[0m num2 \u001b[38;5;241m=\u001b[39m \u001b[38;5;241m0\u001b[39m\n\u001b[0;32m----> 8\u001b[0m result \u001b[38;5;241m=\u001b[39m \u001b[43mdivide_numbers\u001b[49m\u001b[43m(\u001b[49m\u001b[43mnum1\u001b[49m\u001b[43m,\u001b[49m\u001b[43m \u001b[49m\u001b[43mnum2\u001b[49m\u001b[43m)\u001b[49m\n\u001b[1;32m      9\u001b[0m \u001b[38;5;28mprint\u001b[39m(\u001b[38;5;124m\"\u001b[39m\u001b[38;5;124mResult:\u001b[39m\u001b[38;5;124m\"\u001b[39m, result)\n",
      "Cell \u001b[0;32mIn[1], line 2\u001b[0m, in \u001b[0;36mdivide_numbers\u001b[0;34m(a, b)\u001b[0m\n\u001b[1;32m      1\u001b[0m \u001b[38;5;28;01mdef\u001b[39;00m \u001b[38;5;21mdivide_numbers\u001b[39m(a, b):\n\u001b[0;32m----> 2\u001b[0m     result \u001b[38;5;241m=\u001b[39m \u001b[43ma\u001b[49m\u001b[43m \u001b[49m\u001b[38;5;241;43m/\u001b[39;49m\u001b[43m \u001b[49m\u001b[43mb\u001b[49m\n\u001b[1;32m      3\u001b[0m     \u001b[38;5;28;01mreturn\u001b[39;00m result\n",
      "\u001b[0;31mZeroDivisionError\u001b[0m: division by zero"
     ]
    }
   ],
   "source": [
    "def divide_numbers(a, b):\n",
    "    result = a / b\n",
    "    return result\n",
    "\n",
    "num1 = 10\n",
    "num2 = 0\n",
    "\n",
    "result = divide_numbers(num1, num2)\n",
    "print(\"Result:\", result)\n"
   ]
  },
  {
   "cell_type": "markdown",
   "id": "a432e6ae-4186-4517-bffb-4a768e377f88",
   "metadata": {},
   "source": [
    "In this example, the `divide_numbers` function attempts to divide `a` by `b`. However, if `b` is equal to 0, a `ZeroDivisionError` exception will be raised because division by zero is not allowed in mathematics.\n",
    "\n",
    "\n",
    "\n",
    "\n",
    "\n"
   ]
  },
  {
   "cell_type": "markdown",
   "id": "e8c5f879-d725-4598-aeb4-ac7ebbb81941",
   "metadata": {},
   "source": [
    "The traceback shows that the exception occurred in the \"divide_numbers\" function at line 2 and was raised when the program tried to perform the division operation.\n",
    "\n",
    "Without exception handling, the program terminates at this point, and any remaining code after the exception is not executed. This can lead to an incomplete or unexpected state of the program.\n",
    "\n",
    "To handle the exception and prevent the program from terminating, you can use a try-except block to catch the exception and handle it appropriately. For example:"
   ]
  },
  {
   "cell_type": "code",
   "execution_count": 3,
   "id": "d5063023-f2f9-497f-a73a-589ff639341d",
   "metadata": {},
   "outputs": [
    {
     "name": "stdout",
     "output_type": "stream",
     "text": [
      "Error: Division by zero is not allowed.\n"
     ]
    }
   ],
   "source": [
    "try:\n",
    "    result = divide_numbers(num1, num2)\n",
    "    print(\"Result:\", result)\n",
    "except ZeroDivisionError:\n",
    "    print(\"Error: Division by zero is not allowed.\")\n"
   ]
  },
  {
   "cell_type": "markdown",
   "id": "a55096da-f4a0-414d-9626-4414d9c09bb4",
   "metadata": {},
   "source": [
    "By handling exceptions, you can provide alternative actions or error messages, log the exception, or take other appropriate measures to ensure that the program continues running smoothly even in the presence of exceptional situations."
   ]
  },
  {
   "cell_type": "raw",
   "id": "3a8f5f54-7c8f-4f0d-b341-6e11712c0640",
   "metadata": {},
   "source": []
  },
  {
   "cell_type": "raw",
   "id": "89c05924-499e-41e4-a2b6-d70449a01900",
   "metadata": {},
   "source": []
  },
  {
   "cell_type": "markdown",
   "id": "6ee84de1-65ca-43b7-8e02-45b22d6f08ee",
   "metadata": {},
   "source": [
    "Q3. Which Python statements are used to catch and handle exceptions? Explain with an example."
   ]
  },
  {
   "cell_type": "markdown",
   "id": "67c1532c-de34-41e0-b03b-bfacc6d22800",
   "metadata": {},
   "source": [
    "In Python, the `try` and `except` statements are used to catch and handle exceptions. The `try` block is used to enclose the code that may potentially raise an exception, and the `except` block is used to specify the actions to be taken when a particular exception occurs.\n",
    "\n",
    "Here's an example to illustrate the usage of `try` and `except` statements:\n",
    "\n",
    "\n",
    "\n"
   ]
  },
  {
   "cell_type": "code",
   "execution_count": 4,
   "id": "e250b8d8-f0f3-41f3-acf4-8f05c8a665a0",
   "metadata": {},
   "outputs": [
    {
     "name": "stdout",
     "output_type": "stream",
     "text": [
      "Error: Division by zero is not allowed.\n"
     ]
    }
   ],
   "source": [
    "def divide_numbers(a, b):\n",
    "    try:\n",
    "        result = a / b\n",
    "        return result\n",
    "    except ZeroDivisionError:\n",
    "        print(\"Error: Division by zero is not allowed.\")\n",
    "        return None\n",
    "\n",
    "num1 = 10\n",
    "num2 = 0\n",
    "\n",
    "result = divide_numbers(num1, num2)\n",
    "if result is not None:\n",
    "    print(\"Result:\", result)\n"
   ]
  },
  {
   "cell_type": "markdown",
   "id": "a47af543-392d-4386-8841-7132c1206450",
   "metadata": {},
   "source": [
    "In this example, the `divide_numbers` function attempts to divide `a` by `b`. The division operation is enclosed within a `try` block. If a `ZeroDivisionError` occurs during the division (i.e., if `b` is 0), the program jumps to the corresponding `except` block instead of abruptly terminating.\n",
    "\n",
    "Inside the `except` block, an error message is printed indicating that division by zero is not allowed. In this case, the function returns `None` to signify that the division operation couldn't be performed successfully.\n",
    "\n",
    "When the program is executed, it encounters the line `result = divide_numbers(num1, num2)`. Since `num2` is 0, a `ZeroDivisionError` occurs. However, instead of terminating the program, the exception is caught by the `except` block, and the error message is printed.\n",
    "\n",
    "The program then continues executing the remaining code outside the `except` block. In this case, since the division failed, the value of `result` is `None`, so the subsequent `print` statement is not executed.\n",
    "\n",
    "By using the `try` and `except` statements, you can handle specific exceptions gracefully, perform alternative actions, provide meaningful error messages, log the exception details, or take other appropriate measures to ensure that the program continues its execution without abruptly terminating.\n",
    "\n",
    "\n",
    "\n"
   ]
  },
  {
   "cell_type": "raw",
   "id": "02fefbfa-f9a4-4443-b218-78c7ac4758e4",
   "metadata": {},
   "source": []
  },
  {
   "cell_type": "raw",
   "id": "4a65270e-cc10-4994-b28b-af8b8a08cac0",
   "metadata": {},
   "source": []
  },
  {
   "cell_type": "markdown",
   "id": "23e0257a-1732-4d99-9dad-d06739e41986",
   "metadata": {},
   "source": [
    "Q4. Explain with an example:\n",
    "a. try and else.\n",
    "b. finally.\n",
    "c. raise."
   ]
  },
  {
   "cell_type": "markdown",
   "id": "9260fc63-ebfb-4013-a9ac-a3433d252fe2",
   "metadata": {},
   "source": [
    "a. `try`, `except`, and `else`:\n",
    "The `try`, `except`, and `else` statements work together to handle exceptions and execute specific code when no exceptions occur. The `else` block is optional and is executed only if no exceptions are raised in the `try` block.\n",
    "\n",
    "Here's an example:\n",
    "\n",
    "\n",
    "\n"
   ]
  },
  {
   "cell_type": "code",
   "execution_count": 5,
   "id": "a32d4611-5116-478e-aedf-16a345d62ddd",
   "metadata": {},
   "outputs": [
    {
     "name": "stdout",
     "output_type": "stream",
     "text": [
      "The division result is: 5.0\n"
     ]
    }
   ],
   "source": [
    "def divide_numbers(a, b):\n",
    "    try:\n",
    "        result = a / b\n",
    "    except ZeroDivisionError:\n",
    "        print(\"Error: Division by zero is not allowed.\")\n",
    "    else:\n",
    "        print(\"The division result is:\", result)\n",
    "\n",
    "num1 = 10\n",
    "num2 = 2\n",
    "\n",
    "divide_numbers(num1, num2)\n"
   ]
  },
  {
   "cell_type": "markdown",
   "id": "c0d89c60-160a-4c61-8b15-020d599650d7",
   "metadata": {},
   "source": [
    "In this example, the `divide_numbers` function attempts to divide `a` by `b`. The division operation is enclosed within a `try` block. If a `ZeroDivisionError` occurs, the program jumps to the corresponding `except` block. However, if no exception occurs, the `else` block is executed.\n",
    "\n",
    "When the program is executed, the `divide_numbers` function is called with `num1 = 10` and `num2 = 2`. Since the division is valid and doesn't raise an exception, the `else` block is executed, and the result of the division is printed.\n",
    "\n",
    "\n",
    "\n",
    "If the value of `num2` were 0, a `ZeroDivisionError` would occur, and the `else` block would be skipped, with the `except` block executing instead.\n",
    "\n"
   ]
  },
  {
   "cell_type": "markdown",
   "id": "975bb3ee-3533-4fdb-9315-a4fcbdb63c2b",
   "metadata": {},
   "source": [
    "b. `finally`:\n",
    "The `finally` block is used to define a piece of code that will be executed regardless of whether an exception occurs or not. It is typically used to perform cleanup actions or release resources that need to be handled regardless of exceptions.\n",
    "\n",
    "Here's an example:\n",
    "\n",
    "\n",
    "\n"
   ]
  },
  {
   "cell_type": "code",
   "execution_count": 6,
   "id": "906820a8-a6c0-4bd5-933b-d0920f971f16",
   "metadata": {},
   "outputs": [
    {
     "name": "stdout",
     "output_type": "stream",
     "text": [
      "Error: File not found.\n"
     ]
    }
   ],
   "source": [
    "def open_file(anandbajpai):\n",
    "    try:\n",
    "        file = open(anandbajpai, 'r')\n",
    "        content = file.read()\n",
    "        print(\"File content:\", content)\n",
    "    except FileNotFoundError:\n",
    "        print(\"Error: File not found.\")\n",
    "    finally:\n",
    "        if 'file' in locals():\n",
    "            file.close()\n",
    "\n",
    "open_file(\"anandbajpai.txt\")\n"
   ]
  },
  {
   "cell_type": "markdown",
   "id": "b53737c0-76db-47a6-b38f-528b6de572ae",
   "metadata": {},
   "source": [
    "In this example, the `open_file` function attempts to open a file with the given `filename`. If the file is found, its content is read and printed. If a `FileNotFoundError` occurs, indicating that the file doesn't exist, the `except` block is executed.\n",
    "\n",
    "Regardless of whether an exception occurs or not, the `finally` block is always executed. In this case, it ensures that the file is properly closed by checking if the `file` variable exists and then calling the `close()` method.\n",
    "\n",
    "c. `raise`:\n",
    "The `raise` statement is used to explicitly raise an exception in Python. It allows you to create and raise your own custom exceptions or raise built-in exceptions to indicate exceptional situations.\n",
    "\n",
    "Here's an example of raising a custom exception:\n",
    "\n",
    "\n",
    "\n"
   ]
  },
  {
   "cell_type": "code",
   "execution_count": 8,
   "id": "65416f03-ed3a-40c7-a5d8-c0d695b703ed",
   "metadata": {},
   "outputs": [
    {
     "name": "stdout",
     "output_type": "stream",
     "text": [
      "Error: Invalid year of birth. It cannot be in the future.\n"
     ]
    }
   ],
   "source": [
    "def calculate_age(year_of_birth):\n",
    "    current_year = 2023\n",
    "    if year_of_birth > current_year:\n",
    "        raise ValueError(\"Invalid year of birth. It cannot be in the future.\")\n",
    "    age = current_year - year_of_birth\n",
    "    return age\n",
    "\n",
    "try:\n",
    "    age = calculate_age(2024)\n",
    "    print(\"Age:\", age)\n",
    "except ValueError as e:\n",
    "    print(\"Error:\", str(e))\n"
   ]
  },
  {
   "cell_type": "raw",
   "id": "2b11ff63-b76b-4a30-a9ae-da14986ea763",
   "metadata": {},
   "source": [
    "In this example, the `calculate_age` function takes the `year_of_birth` as input. If the `year_of_birth` is greater than the current year (indicating a future date), a `ValueError` is raised with a custom error message.\n",
    "\n",
    "When the program is executed, the `calculate_age` function is called with `year_of_birth"
   ]
  },
  {
   "cell_type": "code",
   "execution_count": null,
   "id": "003a9764-edd6-43f3-8736-e45d7288843c",
   "metadata": {},
   "outputs": [],
   "source": []
  },
  {
   "cell_type": "raw",
   "id": "66907675-a469-4098-b9fd-b0aaa588cb7d",
   "metadata": {},
   "source": []
  },
  {
   "cell_type": "markdown",
   "id": "89b4aecf-f103-46da-b52a-d085f949bb4e",
   "metadata": {},
   "source": [
    "Q5. What are Custom Exceptions in python? Why do we need Custom Exceptions? Explain with an example."
   ]
  },
  {
   "cell_type": "markdown",
   "id": "feec8ab3-c731-4026-a25d-36b5115315d3",
   "metadata": {},
   "source": [
    "In Python, custom exceptions are user-defined exceptions that allow you to create your own exception types to handle specific exceptional situations in your code. Custom exceptions are derived from the built-in `Exception` class or any of its subclasses, providing a way to encapsulate and raise specific errors that are meaningful in the context of your application or module.\n",
    "\n",
    "Here's an example to illustrate the need for custom exceptions:\n",
    "\n",
    "\n"
   ]
  },
  {
   "cell_type": "code",
   "execution_count": 1,
   "id": "b354ee11-338d-47e2-9826-56f862b8c657",
   "metadata": {},
   "outputs": [
    {
     "name": "stdout",
     "output_type": "stream",
     "text": [
      "Error: Insufficient balance to make the withdrawal.\n"
     ]
    }
   ],
   "source": [
    "class InsufficientBalanceError(Exception):\n",
    "    def __init__(self, message):\n",
    "        self.message = message\n",
    "\n",
    "    def __str__(self):\n",
    "        return self.message\n",
    "\n",
    "class BankAccount:\n",
    "    def __init__(self, balance):\n",
    "        self.balance = balance\n",
    "\n",
    "    def withdraw(self, amount):\n",
    "        if amount > self.balance:\n",
    "            raise InsufficientBalanceError(\"Insufficient balance to make the withdrawal.\")\n",
    "        self.balance -= amount\n",
    "        print(\"Withdrawal successful. Remaining balance:\", self.balance)\n",
    "\n",
    "account = BankAccount(1000)\n",
    "\n",
    "try:\n",
    "    account.withdraw(1500)\n",
    "except InsufficientBalanceError as e:\n",
    "    print(\"Error:\", str(e))\n"
   ]
  },
  {
   "cell_type": "markdown",
   "id": "f06579f5-ebc3-44d4-b343-c9e863364146",
   "metadata": {},
   "source": [
    "In this example, we define a custom exception called `InsufficientBalanceError` by deriving it from the `Exception` class. This exception represents the situation where a user tries to withdraw an amount greater than their account balance.\n",
    "\n",
    "The `BankAccount` class has a `withdraw` method that checks if the requested withdrawal amount exceeds the account balance. If it does, it raises an `InsufficientBalanceError` with an appropriate error message.\n",
    "\n",
    "When the program is executed and the withdrawal amount exceeds the balance, the exception is raised. It is caught by the `except` block, and the error message is printed:\n",
    "\n",
    "Error: Insufficient balance to make the withdrawal.\n",
    "\n",
    "Custom exceptions provide several benefits:\n",
    "\n",
    "1. **Clarity and Readability**: By defining custom exceptions, you can give meaningful names to specific exceptional situations, making your code more readable and self-explanatory. Custom exceptions convey the intention of your code and help other developers understand the error conditions at a glance.\n",
    "\n",
    "2. **Modularity**: Custom exceptions allow you to encapsulate specific error scenarios within their own exception classes. This promotes modularity by separating error handling logic from the rest of your code. It becomes easier to manage and update error handling behavior without affecting the entire codebase.\n",
    "\n",
    "3. **Granular Exception Handling**: Custom exceptions enable you to catch and handle specific errors individually, providing fine-grained control over error handling. By raising and catching custom exceptions, you can perform targeted actions, provide appropriate error messages, or implement specific error recovery mechanisms.\n",
    "\n",
    "Overall, custom exceptions help improve the robustness, maintainability, and clarity of your code by allowing you to handle exceptional situations in a structured and meaningful way."
   ]
  },
  {
   "cell_type": "raw",
   "id": "238b33d0-7d6a-4c93-a30e-4b8c28b657e2",
   "metadata": {},
   "source": []
  },
  {
   "cell_type": "raw",
   "id": "1f8af047-460c-4dd6-af92-c7c164f42f42",
   "metadata": {},
   "source": []
  },
  {
   "cell_type": "markdown",
   "id": "85ef9758-d9b1-4026-94bb-8a6ceec4055f",
   "metadata": {},
   "source": [
    "Q6. Create a custom exception class. Use this class to handle an exception."
   ]
  },
  {
   "cell_type": "markdown",
   "id": "80193796-51a2-48d5-b02e-f47ec625367f",
   "metadata": {},
   "source": [
    "Here's an example that demonstrates creating a custom exception class and using it to handle an exception:\n",
    "\n",
    "\n",
    "\n"
   ]
  },
  {
   "cell_type": "code",
   "execution_count": 2,
   "id": "891e6076-c209-4481-9ed9-8032083182ab",
   "metadata": {},
   "outputs": [
    {
     "name": "stdout",
     "output_type": "stream",
     "text": [
      "Error: Invalid email address: anand.com\n"
     ]
    }
   ],
   "source": [
    "class InvalidEmailError(Exception):\n",
    "    def __init__(self, email):\n",
    "        self.email = email\n",
    "\n",
    "    def __str__(self):\n",
    "        return f\"Invalid email address: {self.email}\"\n",
    "\n",
    "def validate_email(email):\n",
    "    if \"@\" not in email:\n",
    "        raise InvalidEmailError(email)\n",
    "    print(\"Email validation passed.\")\n",
    "\n",
    "try:\n",
    "    email = \"anand.com\"\n",
    "    validate_email(email)\n",
    "except InvalidEmailError as e:\n",
    "    print(\"Error:\", str(e))\n"
   ]
  },
  {
   "cell_type": "markdown",
   "id": "c7bc8bb6-3e1f-4a8f-a298-02088a173d7e",
   "metadata": {},
   "source": [
    "In this example, we define a custom exception class called `InvalidEmailError`, derived from the base `Exception` class. The `InvalidEmailError` class takes an `email` parameter in its constructor to capture the invalid email address.\n",
    "\n",
    "The `validate_email` function is responsible for validating an email address. If the email address doesn't contain an \"@\" symbol, indicating it's invalid, the function raises an `InvalidEmailError` exception with the provided email address.\n",
    "\n",
    "When the program is executed, the `validate_email` function is called with the email address \"example.com,\" which is invalid. As a result, the `InvalidEmailError` exception is raised and caught by the `except` block. The error message is then printed:\n",
    "\n",
    "Error: Invalid email address: anand.com\n",
    "\n",
    "By defining and using custom exceptions, you can handle specific error scenarios in a more granular and meaningful way, providing clear and informative error messages to the users of your code."
   ]
  },
  {
   "cell_type": "code",
   "execution_count": null,
   "id": "be7395f4-2544-415b-8796-894f5055ae7b",
   "metadata": {},
   "outputs": [],
   "source": []
  }
 ],
 "metadata": {
  "kernelspec": {
   "display_name": "Python 3 (ipykernel)",
   "language": "python",
   "name": "python3"
  },
  "language_info": {
   "codemirror_mode": {
    "name": "ipython",
    "version": 3
   },
   "file_extension": ".py",
   "mimetype": "text/x-python",
   "name": "python",
   "nbconvert_exporter": "python",
   "pygments_lexer": "ipython3",
   "version": "3.10.8"
  }
 },
 "nbformat": 4,
 "nbformat_minor": 5
}
